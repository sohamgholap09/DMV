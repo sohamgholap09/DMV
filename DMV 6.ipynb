{
 "cells": [
  {
   "cell_type": "code",
   "execution_count": 1,
   "metadata": {
    "id": "LjXm0ysP5xHp"
   },
   "outputs": [],
   "source": [
    "import pandas as pd\n",
    "import matplotlib.pyplot as plt"
   ]
  },
  {
   "cell_type": "code",
   "execution_count": 2,
   "metadata": {
    "colab": {
     "base_uri": "https://localhost:8080/",
     "height": 206
    },
    "executionInfo": {
     "elapsed": 2723,
     "status": "ok",
     "timestamp": 1688901072174,
     "user": {
      "displayName": "DEVKAR ANITA",
      "userId": "01640953838805468642"
     },
     "user_tz": -330
    },
    "id": "2CJuPEeM6j6D",
    "outputId": "114346d9-35dc-4d94-c86e-2d023e854deb"
   },
   "outputs": [
    {
     "data": {
      "text/html": [
       "<div>\n",
       "<style scoped>\n",
       "    .dataframe tbody tr th:only-of-type {\n",
       "        vertical-align: middle;\n",
       "    }\n",
       "\n",
       "    .dataframe tbody tr th {\n",
       "        vertical-align: top;\n",
       "    }\n",
       "\n",
       "    .dataframe thead th {\n",
       "        text-align: right;\n",
       "    }\n",
       "</style>\n",
       "<table border=\"1\" class=\"dataframe\">\n",
       "  <thead>\n",
       "    <tr style=\"text-align: right;\">\n",
       "      <th></th>\n",
       "      <th>invoice_no</th>\n",
       "      <th>customer_id</th>\n",
       "      <th>gender</th>\n",
       "      <th>age</th>\n",
       "      <th>category</th>\n",
       "      <th>quantity</th>\n",
       "      <th>price</th>\n",
       "      <th>payment_method</th>\n",
       "      <th>invoice_date</th>\n",
       "      <th>shopping_mall</th>\n",
       "    </tr>\n",
       "  </thead>\n",
       "  <tbody>\n",
       "    <tr>\n",
       "      <th>0</th>\n",
       "      <td>I138884</td>\n",
       "      <td>C241288</td>\n",
       "      <td>Female</td>\n",
       "      <td>28</td>\n",
       "      <td>Clothing</td>\n",
       "      <td>5</td>\n",
       "      <td>1500.40</td>\n",
       "      <td>Credit Card</td>\n",
       "      <td>5/8/2022</td>\n",
       "      <td>Kanyon</td>\n",
       "    </tr>\n",
       "    <tr>\n",
       "      <th>1</th>\n",
       "      <td>I317333</td>\n",
       "      <td>C111565</td>\n",
       "      <td>Male</td>\n",
       "      <td>21</td>\n",
       "      <td>Shoes</td>\n",
       "      <td>3</td>\n",
       "      <td>1800.51</td>\n",
       "      <td>Debit Card</td>\n",
       "      <td>12/12/2021</td>\n",
       "      <td>Forum Istanbul</td>\n",
       "    </tr>\n",
       "    <tr>\n",
       "      <th>2</th>\n",
       "      <td>I127801</td>\n",
       "      <td>C266599</td>\n",
       "      <td>Male</td>\n",
       "      <td>20</td>\n",
       "      <td>Clothing</td>\n",
       "      <td>1</td>\n",
       "      <td>300.08</td>\n",
       "      <td>Cash</td>\n",
       "      <td>9/11/2021</td>\n",
       "      <td>Metrocity</td>\n",
       "    </tr>\n",
       "    <tr>\n",
       "      <th>3</th>\n",
       "      <td>I173702</td>\n",
       "      <td>C988172</td>\n",
       "      <td>Female</td>\n",
       "      <td>66</td>\n",
       "      <td>Shoes</td>\n",
       "      <td>5</td>\n",
       "      <td>3000.85</td>\n",
       "      <td>Credit Card</td>\n",
       "      <td>16/05/2021</td>\n",
       "      <td>Metropol AVM</td>\n",
       "    </tr>\n",
       "    <tr>\n",
       "      <th>4</th>\n",
       "      <td>I337046</td>\n",
       "      <td>C189076</td>\n",
       "      <td>Female</td>\n",
       "      <td>53</td>\n",
       "      <td>Books</td>\n",
       "      <td>4</td>\n",
       "      <td>60.60</td>\n",
       "      <td>Cash</td>\n",
       "      <td>24/10/2021</td>\n",
       "      <td>Kanyon</td>\n",
       "    </tr>\n",
       "  </tbody>\n",
       "</table>\n",
       "</div>"
      ],
      "text/plain": [
       "  invoice_no customer_id  gender  age  category  quantity    price  \\\n",
       "0    I138884     C241288  Female   28  Clothing         5  1500.40   \n",
       "1    I317333     C111565    Male   21     Shoes         3  1800.51   \n",
       "2    I127801     C266599    Male   20  Clothing         1   300.08   \n",
       "3    I173702     C988172  Female   66     Shoes         5  3000.85   \n",
       "4    I337046     C189076  Female   53     Books         4    60.60   \n",
       "\n",
       "  payment_method invoice_date   shopping_mall  \n",
       "0    Credit Card     5/8/2022          Kanyon  \n",
       "1     Debit Card   12/12/2021  Forum Istanbul  \n",
       "2           Cash    9/11/2021       Metrocity  \n",
       "3    Credit Card   16/05/2021    Metropol AVM  \n",
       "4           Cash   24/10/2021          Kanyon  "
      ]
     },
     "execution_count": 2,
     "metadata": {},
     "output_type": "execute_result"
    }
   ],
   "source": [
    "df= pd.read_csv(\"C:/Users/visha/OneDrive/Desktop/DMV pratical/DMV 6/customer_shopping_data.csv\")\n",
    "df.head()"
   ]
  },
  {
   "cell_type": "code",
   "execution_count": 3,
   "metadata": {
    "colab": {
     "base_uri": "https://localhost:8080/",
     "height": 394
    },
    "executionInfo": {
     "elapsed": 809,
     "status": "ok",
     "timestamp": 1688901076945,
     "user": {
      "displayName": "DEVKAR ANITA",
      "userId": "01640953838805468642"
     },
     "user_tz": -330
    },
    "id": "14Hb4kGZ7LxR",
    "outputId": "9649d16f-f92b-4279-c179-8d66903c3140"
   },
   "outputs": [
    {
     "data": {
      "text/html": [
       "<div>\n",
       "<style scoped>\n",
       "    .dataframe tbody tr th:only-of-type {\n",
       "        vertical-align: middle;\n",
       "    }\n",
       "\n",
       "    .dataframe tbody tr th {\n",
       "        vertical-align: top;\n",
       "    }\n",
       "\n",
       "    .dataframe thead th {\n",
       "        text-align: right;\n",
       "    }\n",
       "</style>\n",
       "<table border=\"1\" class=\"dataframe\">\n",
       "  <thead>\n",
       "    <tr style=\"text-align: right;\">\n",
       "      <th></th>\n",
       "      <th>invoice_no</th>\n",
       "      <th>customer_id</th>\n",
       "      <th>gender</th>\n",
       "      <th>age</th>\n",
       "      <th>category</th>\n",
       "      <th>quantity</th>\n",
       "      <th>price</th>\n",
       "      <th>payment_method</th>\n",
       "      <th>invoice_date</th>\n",
       "    </tr>\n",
       "    <tr>\n",
       "      <th>shopping_mall</th>\n",
       "      <th></th>\n",
       "      <th></th>\n",
       "      <th></th>\n",
       "      <th></th>\n",
       "      <th></th>\n",
       "      <th></th>\n",
       "      <th></th>\n",
       "      <th></th>\n",
       "      <th></th>\n",
       "    </tr>\n",
       "  </thead>\n",
       "  <tbody>\n",
       "    <tr>\n",
       "      <th>Cevahir AVM</th>\n",
       "      <td>4991</td>\n",
       "      <td>4991</td>\n",
       "      <td>4991</td>\n",
       "      <td>4991</td>\n",
       "      <td>4991</td>\n",
       "      <td>4991</td>\n",
       "      <td>4991</td>\n",
       "      <td>4991</td>\n",
       "      <td>4991</td>\n",
       "    </tr>\n",
       "    <tr>\n",
       "      <th>Emaar Square Mall</th>\n",
       "      <td>4811</td>\n",
       "      <td>4811</td>\n",
       "      <td>4811</td>\n",
       "      <td>4811</td>\n",
       "      <td>4811</td>\n",
       "      <td>4811</td>\n",
       "      <td>4811</td>\n",
       "      <td>4811</td>\n",
       "      <td>4811</td>\n",
       "    </tr>\n",
       "    <tr>\n",
       "      <th>Forum Istanbul</th>\n",
       "      <td>4947</td>\n",
       "      <td>4947</td>\n",
       "      <td>4947</td>\n",
       "      <td>4947</td>\n",
       "      <td>4947</td>\n",
       "      <td>4947</td>\n",
       "      <td>4947</td>\n",
       "      <td>4947</td>\n",
       "      <td>4947</td>\n",
       "    </tr>\n",
       "    <tr>\n",
       "      <th>Istinye Park</th>\n",
       "      <td>9781</td>\n",
       "      <td>9781</td>\n",
       "      <td>9781</td>\n",
       "      <td>9781</td>\n",
       "      <td>9781</td>\n",
       "      <td>9781</td>\n",
       "      <td>9781</td>\n",
       "      <td>9781</td>\n",
       "      <td>9781</td>\n",
       "    </tr>\n",
       "    <tr>\n",
       "      <th>Kanyon</th>\n",
       "      <td>19823</td>\n",
       "      <td>19823</td>\n",
       "      <td>19823</td>\n",
       "      <td>19823</td>\n",
       "      <td>19823</td>\n",
       "      <td>19823</td>\n",
       "      <td>19823</td>\n",
       "      <td>19823</td>\n",
       "      <td>19823</td>\n",
       "    </tr>\n",
       "    <tr>\n",
       "      <th>Mall of Istanbul</th>\n",
       "      <td>19943</td>\n",
       "      <td>19943</td>\n",
       "      <td>19943</td>\n",
       "      <td>19943</td>\n",
       "      <td>19943</td>\n",
       "      <td>19943</td>\n",
       "      <td>19943</td>\n",
       "      <td>19943</td>\n",
       "      <td>19943</td>\n",
       "    </tr>\n",
       "    <tr>\n",
       "      <th>Metrocity</th>\n",
       "      <td>15011</td>\n",
       "      <td>15011</td>\n",
       "      <td>15011</td>\n",
       "      <td>15011</td>\n",
       "      <td>15011</td>\n",
       "      <td>15011</td>\n",
       "      <td>15011</td>\n",
       "      <td>15011</td>\n",
       "      <td>15011</td>\n",
       "    </tr>\n",
       "    <tr>\n",
       "      <th>Metropol AVM</th>\n",
       "      <td>10161</td>\n",
       "      <td>10161</td>\n",
       "      <td>10161</td>\n",
       "      <td>10161</td>\n",
       "      <td>10161</td>\n",
       "      <td>10161</td>\n",
       "      <td>10161</td>\n",
       "      <td>10161</td>\n",
       "      <td>10161</td>\n",
       "    </tr>\n",
       "    <tr>\n",
       "      <th>Viaport Outlet</th>\n",
       "      <td>4914</td>\n",
       "      <td>4914</td>\n",
       "      <td>4914</td>\n",
       "      <td>4914</td>\n",
       "      <td>4914</td>\n",
       "      <td>4914</td>\n",
       "      <td>4914</td>\n",
       "      <td>4914</td>\n",
       "      <td>4914</td>\n",
       "    </tr>\n",
       "    <tr>\n",
       "      <th>Zorlu Center</th>\n",
       "      <td>5075</td>\n",
       "      <td>5075</td>\n",
       "      <td>5075</td>\n",
       "      <td>5075</td>\n",
       "      <td>5075</td>\n",
       "      <td>5075</td>\n",
       "      <td>5075</td>\n",
       "      <td>5075</td>\n",
       "      <td>5075</td>\n",
       "    </tr>\n",
       "  </tbody>\n",
       "</table>\n",
       "</div>"
      ],
      "text/plain": [
       "                   invoice_no  customer_id  gender    age  category  quantity  \\\n",
       "shopping_mall                                                                   \n",
       "Cevahir AVM              4991         4991    4991   4991      4991      4991   \n",
       "Emaar Square Mall        4811         4811    4811   4811      4811      4811   \n",
       "Forum Istanbul           4947         4947    4947   4947      4947      4947   \n",
       "Istinye Park             9781         9781    9781   9781      9781      9781   \n",
       "Kanyon                  19823        19823   19823  19823     19823     19823   \n",
       "Mall of Istanbul        19943        19943   19943  19943     19943     19943   \n",
       "Metrocity               15011        15011   15011  15011     15011     15011   \n",
       "Metropol AVM            10161        10161   10161  10161     10161     10161   \n",
       "Viaport Outlet           4914         4914    4914   4914      4914      4914   \n",
       "Zorlu Center             5075         5075    5075   5075      5075      5075   \n",
       "\n",
       "                   price  payment_method  invoice_date  \n",
       "shopping_mall                                           \n",
       "Cevahir AVM         4991            4991          4991  \n",
       "Emaar Square Mall   4811            4811          4811  \n",
       "Forum Istanbul      4947            4947          4947  \n",
       "Istinye Park        9781            9781          9781  \n",
       "Kanyon             19823           19823         19823  \n",
       "Mall of Istanbul   19943           19943         19943  \n",
       "Metrocity          15011           15011         15011  \n",
       "Metropol AVM       10161           10161         10161  \n",
       "Viaport Outlet      4914            4914          4914  \n",
       "Zorlu Center        5075            5075          5075  "
      ]
     },
     "execution_count": 3,
     "metadata": {},
     "output_type": "execute_result"
    }
   ],
   "source": [
    "df.groupby(\"shopping_mall\").count()"
   ]
  },
  {
   "cell_type": "code",
   "execution_count": 4,
   "metadata": {
    "colab": {
     "base_uri": "https://localhost:8080/",
     "height": 332
    },
    "executionInfo": {
     "elapsed": 560,
     "status": "ok",
     "timestamp": 1688901081466,
     "user": {
      "displayName": "DEVKAR ANITA",
      "userId": "01640953838805468642"
     },
     "user_tz": -330
    },
    "id": "3QJtL7e87yFM",
    "outputId": "61624f33-a6eb-4372-94ad-32d889a31a37"
   },
   "outputs": [
    {
     "data": {
      "text/html": [
       "<div>\n",
       "<style scoped>\n",
       "    .dataframe tbody tr th:only-of-type {\n",
       "        vertical-align: middle;\n",
       "    }\n",
       "\n",
       "    .dataframe tbody tr th {\n",
       "        vertical-align: top;\n",
       "    }\n",
       "\n",
       "    .dataframe thead th {\n",
       "        text-align: right;\n",
       "    }\n",
       "</style>\n",
       "<table border=\"1\" class=\"dataframe\">\n",
       "  <thead>\n",
       "    <tr style=\"text-align: right;\">\n",
       "      <th></th>\n",
       "      <th>invoice_no</th>\n",
       "      <th>customer_id</th>\n",
       "      <th>gender</th>\n",
       "      <th>age</th>\n",
       "      <th>quantity</th>\n",
       "      <th>price</th>\n",
       "      <th>payment_method</th>\n",
       "      <th>invoice_date</th>\n",
       "      <th>shopping_mall</th>\n",
       "    </tr>\n",
       "    <tr>\n",
       "      <th>category</th>\n",
       "      <th></th>\n",
       "      <th></th>\n",
       "      <th></th>\n",
       "      <th></th>\n",
       "      <th></th>\n",
       "      <th></th>\n",
       "      <th></th>\n",
       "      <th></th>\n",
       "      <th></th>\n",
       "    </tr>\n",
       "  </thead>\n",
       "  <tbody>\n",
       "    <tr>\n",
       "      <th>Books</th>\n",
       "      <td>4981</td>\n",
       "      <td>4981</td>\n",
       "      <td>4981</td>\n",
       "      <td>4981</td>\n",
       "      <td>4981</td>\n",
       "      <td>4981</td>\n",
       "      <td>4981</td>\n",
       "      <td>4981</td>\n",
       "      <td>4981</td>\n",
       "    </tr>\n",
       "    <tr>\n",
       "      <th>Clothing</th>\n",
       "      <td>34487</td>\n",
       "      <td>34487</td>\n",
       "      <td>34487</td>\n",
       "      <td>34487</td>\n",
       "      <td>34487</td>\n",
       "      <td>34487</td>\n",
       "      <td>34487</td>\n",
       "      <td>34487</td>\n",
       "      <td>34487</td>\n",
       "    </tr>\n",
       "    <tr>\n",
       "      <th>Cosmetics</th>\n",
       "      <td>15097</td>\n",
       "      <td>15097</td>\n",
       "      <td>15097</td>\n",
       "      <td>15097</td>\n",
       "      <td>15097</td>\n",
       "      <td>15097</td>\n",
       "      <td>15097</td>\n",
       "      <td>15097</td>\n",
       "      <td>15097</td>\n",
       "    </tr>\n",
       "    <tr>\n",
       "      <th>Food &amp; Beverage</th>\n",
       "      <td>14776</td>\n",
       "      <td>14776</td>\n",
       "      <td>14776</td>\n",
       "      <td>14776</td>\n",
       "      <td>14776</td>\n",
       "      <td>14776</td>\n",
       "      <td>14776</td>\n",
       "      <td>14776</td>\n",
       "      <td>14776</td>\n",
       "    </tr>\n",
       "    <tr>\n",
       "      <th>Shoes</th>\n",
       "      <td>10034</td>\n",
       "      <td>10034</td>\n",
       "      <td>10034</td>\n",
       "      <td>10034</td>\n",
       "      <td>10034</td>\n",
       "      <td>10034</td>\n",
       "      <td>10034</td>\n",
       "      <td>10034</td>\n",
       "      <td>10034</td>\n",
       "    </tr>\n",
       "    <tr>\n",
       "      <th>Souvenir</th>\n",
       "      <td>4999</td>\n",
       "      <td>4999</td>\n",
       "      <td>4999</td>\n",
       "      <td>4999</td>\n",
       "      <td>4999</td>\n",
       "      <td>4999</td>\n",
       "      <td>4999</td>\n",
       "      <td>4999</td>\n",
       "      <td>4999</td>\n",
       "    </tr>\n",
       "    <tr>\n",
       "      <th>Technology</th>\n",
       "      <td>4996</td>\n",
       "      <td>4996</td>\n",
       "      <td>4996</td>\n",
       "      <td>4996</td>\n",
       "      <td>4996</td>\n",
       "      <td>4996</td>\n",
       "      <td>4996</td>\n",
       "      <td>4996</td>\n",
       "      <td>4996</td>\n",
       "    </tr>\n",
       "    <tr>\n",
       "      <th>Toys</th>\n",
       "      <td>10087</td>\n",
       "      <td>10087</td>\n",
       "      <td>10087</td>\n",
       "      <td>10087</td>\n",
       "      <td>10087</td>\n",
       "      <td>10087</td>\n",
       "      <td>10087</td>\n",
       "      <td>10087</td>\n",
       "      <td>10087</td>\n",
       "    </tr>\n",
       "  </tbody>\n",
       "</table>\n",
       "</div>"
      ],
      "text/plain": [
       "                 invoice_no  customer_id  gender    age  quantity  price  \\\n",
       "category                                                                   \n",
       "Books                  4981         4981    4981   4981      4981   4981   \n",
       "Clothing              34487        34487   34487  34487     34487  34487   \n",
       "Cosmetics             15097        15097   15097  15097     15097  15097   \n",
       "Food & Beverage       14776        14776   14776  14776     14776  14776   \n",
       "Shoes                 10034        10034   10034  10034     10034  10034   \n",
       "Souvenir               4999         4999    4999   4999      4999   4999   \n",
       "Technology             4996         4996    4996   4996      4996   4996   \n",
       "Toys                  10087        10087   10087  10087     10087  10087   \n",
       "\n",
       "                 payment_method  invoice_date  shopping_mall  \n",
       "category                                                      \n",
       "Books                      4981          4981           4981  \n",
       "Clothing                  34487         34487          34487  \n",
       "Cosmetics                 15097         15097          15097  \n",
       "Food & Beverage           14776         14776          14776  \n",
       "Shoes                     10034         10034          10034  \n",
       "Souvenir                   4999          4999           4999  \n",
       "Technology                 4996          4996           4996  \n",
       "Toys                      10087         10087          10087  "
      ]
     },
     "execution_count": 4,
     "metadata": {},
     "output_type": "execute_result"
    }
   ],
   "source": [
    "df.groupby(\"category\").count()"
   ]
  },
  {
   "cell_type": "code",
   "execution_count": 5,
   "metadata": {
    "colab": {
     "base_uri": "https://localhost:8080/"
    },
    "executionInfo": {
     "elapsed": 506,
     "status": "ok",
     "timestamp": 1688901086127,
     "user": {
      "displayName": "DEVKAR ANITA",
      "userId": "01640953838805468642"
     },
     "user_tz": -330
    },
    "id": "L8eB4pGO-IJW",
    "outputId": "2deeaf45-6230-4c2d-c7a9-c0105d7e39be"
   },
   "outputs": [
    {
     "name": "stderr",
     "output_type": "stream",
     "text": [
      "C:\\Users\\visha\\AppData\\Local\\Temp\\ipykernel_9872\\4066309038.py:1: FutureWarning: The default value of numeric_only in DataFrameGroupBy.sum is deprecated. In a future version, numeric_only will default to False. Either specify numeric_only or select only columns which should be valid for the function.\n",
      "  branch_sales = df.groupby(\"shopping_mall\").sum()\n"
     ]
    }
   ],
   "source": [
    "branch_sales = df.groupby(\"shopping_mall\").sum()"
   ]
  },
  {
   "cell_type": "code",
   "execution_count": 6,
   "metadata": {
    "colab": {
     "base_uri": "https://localhost:8080/"
    },
    "executionInfo": {
     "elapsed": 8,
     "status": "ok",
     "timestamp": 1688901089038,
     "user": {
      "displayName": "DEVKAR ANITA",
      "userId": "01640953838805468642"
     },
     "user_tz": -330
    },
    "id": "4NSxKASj7-7k",
    "outputId": "e4859411-8332-4013-b01c-1e6f84a746b2"
   },
   "outputs": [
    {
     "name": "stderr",
     "output_type": "stream",
     "text": [
      "C:\\Users\\visha\\AppData\\Local\\Temp\\ipykernel_9872\\3199776337.py:1: FutureWarning: The default value of numeric_only in DataFrameGroupBy.sum is deprecated. In a future version, numeric_only will default to False. Either specify numeric_only or select only columns which should be valid for the function.\n",
      "  category_sales = df.groupby(\"category\").sum()\n"
     ]
    }
   ],
   "source": [
    "category_sales = df.groupby(\"category\").sum()"
   ]
  },
  {
   "cell_type": "code",
   "execution_count": 7,
   "metadata": {
    "colab": {
     "base_uri": "https://localhost:8080/",
     "height": 394
    },
    "executionInfo": {
     "elapsed": 149,
     "status": "ok",
     "timestamp": 1688901092426,
     "user": {
      "displayName": "DEVKAR ANITA",
      "userId": "01640953838805468642"
     },
     "user_tz": -330
    },
    "id": "ZEMSiMpr8mcs",
    "outputId": "0efcc5da-e899-4786-e3fb-79414a366ab5"
   },
   "outputs": [
    {
     "data": {
      "text/html": [
       "<div>\n",
       "<style scoped>\n",
       "    .dataframe tbody tr th:only-of-type {\n",
       "        vertical-align: middle;\n",
       "    }\n",
       "\n",
       "    .dataframe tbody tr th {\n",
       "        vertical-align: top;\n",
       "    }\n",
       "\n",
       "    .dataframe thead th {\n",
       "        text-align: right;\n",
       "    }\n",
       "</style>\n",
       "<table border=\"1\" class=\"dataframe\">\n",
       "  <thead>\n",
       "    <tr style=\"text-align: right;\">\n",
       "      <th></th>\n",
       "      <th>age</th>\n",
       "      <th>quantity</th>\n",
       "      <th>price</th>\n",
       "    </tr>\n",
       "    <tr>\n",
       "      <th>shopping_mall</th>\n",
       "      <th></th>\n",
       "      <th></th>\n",
       "      <th></th>\n",
       "    </tr>\n",
       "  </thead>\n",
       "  <tbody>\n",
       "    <tr>\n",
       "      <th>Mall of Istanbul</th>\n",
       "      <td>866333</td>\n",
       "      <td>60114</td>\n",
       "      <td>13851737.62</td>\n",
       "    </tr>\n",
       "    <tr>\n",
       "      <th>Kanyon</th>\n",
       "      <td>862280</td>\n",
       "      <td>59457</td>\n",
       "      <td>13710755.24</td>\n",
       "    </tr>\n",
       "    <tr>\n",
       "      <th>Metrocity</th>\n",
       "      <td>652968</td>\n",
       "      <td>44894</td>\n",
       "      <td>10249980.07</td>\n",
       "    </tr>\n",
       "    <tr>\n",
       "      <th>Metropol AVM</th>\n",
       "      <td>439086</td>\n",
       "      <td>30530</td>\n",
       "      <td>6937992.99</td>\n",
       "    </tr>\n",
       "    <tr>\n",
       "      <th>Istinye Park</th>\n",
       "      <td>424335</td>\n",
       "      <td>29465</td>\n",
       "      <td>6717077.54</td>\n",
       "    </tr>\n",
       "    <tr>\n",
       "      <th>Zorlu Center</th>\n",
       "      <td>220926</td>\n",
       "      <td>15234</td>\n",
       "      <td>3509649.02</td>\n",
       "    </tr>\n",
       "    <tr>\n",
       "      <th>Cevahir AVM</th>\n",
       "      <td>215474</td>\n",
       "      <td>14949</td>\n",
       "      <td>3433671.84</td>\n",
       "    </tr>\n",
       "    <tr>\n",
       "      <th>Viaport Outlet</th>\n",
       "      <td>212771</td>\n",
       "      <td>14716</td>\n",
       "      <td>3414019.46</td>\n",
       "    </tr>\n",
       "    <tr>\n",
       "      <th>Emaar Square Mall</th>\n",
       "      <td>209575</td>\n",
       "      <td>14501</td>\n",
       "      <td>3390408.31</td>\n",
       "    </tr>\n",
       "    <tr>\n",
       "      <th>Forum Istanbul</th>\n",
       "      <td>215380</td>\n",
       "      <td>14852</td>\n",
       "      <td>3336073.82</td>\n",
       "    </tr>\n",
       "  </tbody>\n",
       "</table>\n",
       "</div>"
      ],
      "text/plain": [
       "                      age  quantity        price\n",
       "shopping_mall                                   \n",
       "Mall of Istanbul   866333     60114  13851737.62\n",
       "Kanyon             862280     59457  13710755.24\n",
       "Metrocity          652968     44894  10249980.07\n",
       "Metropol AVM       439086     30530   6937992.99\n",
       "Istinye Park       424335     29465   6717077.54\n",
       "Zorlu Center       220926     15234   3509649.02\n",
       "Cevahir AVM        215474     14949   3433671.84\n",
       "Viaport Outlet     212771     14716   3414019.46\n",
       "Emaar Square Mall  209575     14501   3390408.31\n",
       "Forum Istanbul     215380     14852   3336073.82"
      ]
     },
     "execution_count": 7,
     "metadata": {},
     "output_type": "execute_result"
    }
   ],
   "source": [
    "branch_sales.sort_values(by = \"price\", ascending = False)"
   ]
  },
  {
   "cell_type": "code",
   "execution_count": 8,
   "metadata": {
    "colab": {
     "base_uri": "https://localhost:8080/",
     "height": 332
    },
    "executionInfo": {
     "elapsed": 667,
     "status": "ok",
     "timestamp": 1688901097104,
     "user": {
      "displayName": "DEVKAR ANITA",
      "userId": "01640953838805468642"
     },
     "user_tz": -330
    },
    "id": "_RfrBvdR_s7U",
    "outputId": "373e37c4-e53a-4f06-c96e-b3f7642edef4"
   },
   "outputs": [
    {
     "data": {
      "text/html": [
       "<div>\n",
       "<style scoped>\n",
       "    .dataframe tbody tr th:only-of-type {\n",
       "        vertical-align: middle;\n",
       "    }\n",
       "\n",
       "    .dataframe tbody tr th {\n",
       "        vertical-align: top;\n",
       "    }\n",
       "\n",
       "    .dataframe thead th {\n",
       "        text-align: right;\n",
       "    }\n",
       "</style>\n",
       "<table border=\"1\" class=\"dataframe\">\n",
       "  <thead>\n",
       "    <tr style=\"text-align: right;\">\n",
       "      <th></th>\n",
       "      <th>age</th>\n",
       "      <th>quantity</th>\n",
       "      <th>price</th>\n",
       "    </tr>\n",
       "    <tr>\n",
       "      <th>category</th>\n",
       "      <th></th>\n",
       "      <th></th>\n",
       "      <th></th>\n",
       "    </tr>\n",
       "  </thead>\n",
       "  <tbody>\n",
       "    <tr>\n",
       "      <th>Clothing</th>\n",
       "      <td>1497054</td>\n",
       "      <td>103558</td>\n",
       "      <td>31075684.64</td>\n",
       "    </tr>\n",
       "    <tr>\n",
       "      <th>Shoes</th>\n",
       "      <td>436027</td>\n",
       "      <td>30217</td>\n",
       "      <td>18135336.89</td>\n",
       "    </tr>\n",
       "    <tr>\n",
       "      <th>Technology</th>\n",
       "      <td>216669</td>\n",
       "      <td>15021</td>\n",
       "      <td>15772050.00</td>\n",
       "    </tr>\n",
       "    <tr>\n",
       "      <th>Cosmetics</th>\n",
       "      <td>657937</td>\n",
       "      <td>45465</td>\n",
       "      <td>1848606.90</td>\n",
       "    </tr>\n",
       "    <tr>\n",
       "      <th>Toys</th>\n",
       "      <td>437032</td>\n",
       "      <td>30321</td>\n",
       "      <td>1086704.64</td>\n",
       "    </tr>\n",
       "    <tr>\n",
       "      <th>Food &amp; Beverage</th>\n",
       "      <td>640605</td>\n",
       "      <td>44277</td>\n",
       "      <td>231568.71</td>\n",
       "    </tr>\n",
       "    <tr>\n",
       "      <th>Books</th>\n",
       "      <td>216882</td>\n",
       "      <td>14982</td>\n",
       "      <td>226977.30</td>\n",
       "    </tr>\n",
       "    <tr>\n",
       "      <th>Souvenir</th>\n",
       "      <td>216922</td>\n",
       "      <td>14871</td>\n",
       "      <td>174436.83</td>\n",
       "    </tr>\n",
       "  </tbody>\n",
       "</table>\n",
       "</div>"
      ],
      "text/plain": [
       "                     age  quantity        price\n",
       "category                                       \n",
       "Clothing         1497054    103558  31075684.64\n",
       "Shoes             436027     30217  18135336.89\n",
       "Technology        216669     15021  15772050.00\n",
       "Cosmetics         657937     45465   1848606.90\n",
       "Toys              437032     30321   1086704.64\n",
       "Food & Beverage   640605     44277    231568.71\n",
       "Books             216882     14982    226977.30\n",
       "Souvenir          216922     14871    174436.83"
      ]
     },
     "execution_count": 8,
     "metadata": {},
     "output_type": "execute_result"
    }
   ],
   "source": [
    "category_sales.sort_values(by = \"price\", ascending = False)"
   ]
  },
  {
   "cell_type": "code",
   "execution_count": 9,
   "metadata": {
    "colab": {
     "base_uri": "https://localhost:8080/"
    },
    "executionInfo": {
     "elapsed": 4,
     "status": "ok",
     "timestamp": 1688901100569,
     "user": {
      "displayName": "DEVKAR ANITA",
      "userId": "01640953838805468642"
     },
     "user_tz": -330
    },
    "id": "b3Te1VwzAeU5",
    "outputId": "c38925f2-6391-4947-df1e-5400043393cc"
   },
   "outputs": [
    {
     "name": "stderr",
     "output_type": "stream",
     "text": [
      "C:\\Users\\visha\\AppData\\Local\\Temp\\ipykernel_9872\\3532091100.py:1: FutureWarning: The default value of numeric_only in DataFrameGroupBy.sum is deprecated. In a future version, numeric_only will default to False. Either specify numeric_only or select only columns which should be valid for the function.\n",
      "  combined_branch_category_sales = df.groupby([\"shopping_mall\", \"category\"]).sum()\n"
     ]
    }
   ],
   "source": [
    "combined_branch_category_sales = df.groupby([\"shopping_mall\", \"category\"]).sum()"
   ]
  },
  {
   "cell_type": "code",
   "execution_count": 10,
   "metadata": {
    "colab": {
     "base_uri": "https://localhost:8080/",
     "height": 455
    },
    "executionInfo": {
     "elapsed": 97,
     "status": "ok",
     "timestamp": 1688901105894,
     "user": {
      "displayName": "DEVKAR ANITA",
      "userId": "01640953838805468642"
     },
     "user_tz": -330
    },
    "id": "4YALmSPqBYwa",
    "outputId": "a5b23191-d0b8-49a2-c687-e0826a3e6b01"
   },
   "outputs": [
    {
     "data": {
      "text/html": [
       "<div>\n",
       "<style scoped>\n",
       "    .dataframe tbody tr th:only-of-type {\n",
       "        vertical-align: middle;\n",
       "    }\n",
       "\n",
       "    .dataframe tbody tr th {\n",
       "        vertical-align: top;\n",
       "    }\n",
       "\n",
       "    .dataframe thead th {\n",
       "        text-align: right;\n",
       "    }\n",
       "</style>\n",
       "<table border=\"1\" class=\"dataframe\">\n",
       "  <thead>\n",
       "    <tr style=\"text-align: right;\">\n",
       "      <th></th>\n",
       "      <th></th>\n",
       "      <th>age</th>\n",
       "      <th>quantity</th>\n",
       "      <th>price</th>\n",
       "    </tr>\n",
       "    <tr>\n",
       "      <th>shopping_mall</th>\n",
       "      <th>category</th>\n",
       "      <th></th>\n",
       "      <th></th>\n",
       "      <th></th>\n",
       "    </tr>\n",
       "  </thead>\n",
       "  <tbody>\n",
       "    <tr>\n",
       "      <th rowspan=\"5\" valign=\"top\">Cevahir AVM</th>\n",
       "      <th>Books</th>\n",
       "      <td>11464</td>\n",
       "      <td>792</td>\n",
       "      <td>11998.80</td>\n",
       "    </tr>\n",
       "    <tr>\n",
       "      <th>Clothing</th>\n",
       "      <td>74729</td>\n",
       "      <td>5180</td>\n",
       "      <td>1554414.40</td>\n",
       "    </tr>\n",
       "    <tr>\n",
       "      <th>Cosmetics</th>\n",
       "      <td>31142</td>\n",
       "      <td>2174</td>\n",
       "      <td>88394.84</td>\n",
       "    </tr>\n",
       "    <tr>\n",
       "      <th>Food &amp; Beverage</th>\n",
       "      <td>33269</td>\n",
       "      <td>2293</td>\n",
       "      <td>11992.39</td>\n",
       "    </tr>\n",
       "    <tr>\n",
       "      <th>Shoes</th>\n",
       "      <td>21211</td>\n",
       "      <td>1473</td>\n",
       "      <td>884050.41</td>\n",
       "    </tr>\n",
       "    <tr>\n",
       "      <th>...</th>\n",
       "      <th>...</th>\n",
       "      <td>...</td>\n",
       "      <td>...</td>\n",
       "      <td>...</td>\n",
       "    </tr>\n",
       "    <tr>\n",
       "      <th rowspan=\"5\" valign=\"top\">Zorlu Center</th>\n",
       "      <th>Food &amp; Beverage</th>\n",
       "      <td>32687</td>\n",
       "      <td>2216</td>\n",
       "      <td>11589.68</td>\n",
       "    </tr>\n",
       "    <tr>\n",
       "      <th>Shoes</th>\n",
       "      <td>22949</td>\n",
       "      <td>1589</td>\n",
       "      <td>953670.13</td>\n",
       "    </tr>\n",
       "    <tr>\n",
       "      <th>Souvenir</th>\n",
       "      <td>10727</td>\n",
       "      <td>716</td>\n",
       "      <td>8398.68</td>\n",
       "    </tr>\n",
       "    <tr>\n",
       "      <th>Technology</th>\n",
       "      <td>10533</td>\n",
       "      <td>765</td>\n",
       "      <td>803250.00</td>\n",
       "    </tr>\n",
       "    <tr>\n",
       "      <th>Toys</th>\n",
       "      <td>22395</td>\n",
       "      <td>1526</td>\n",
       "      <td>54691.84</td>\n",
       "    </tr>\n",
       "  </tbody>\n",
       "</table>\n",
       "<p>80 rows × 3 columns</p>\n",
       "</div>"
      ],
      "text/plain": [
       "                                 age  quantity       price\n",
       "shopping_mall category                                    \n",
       "Cevahir AVM   Books            11464       792    11998.80\n",
       "              Clothing         74729      5180  1554414.40\n",
       "              Cosmetics        31142      2174    88394.84\n",
       "              Food & Beverage  33269      2293    11992.39\n",
       "              Shoes            21211      1473   884050.41\n",
       "...                              ...       ...         ...\n",
       "Zorlu Center  Food & Beverage  32687      2216    11589.68\n",
       "              Shoes            22949      1589   953670.13\n",
       "              Souvenir         10727       716     8398.68\n",
       "              Technology       10533       765   803250.00\n",
       "              Toys             22395      1526    54691.84\n",
       "\n",
       "[80 rows x 3 columns]"
      ]
     },
     "execution_count": 10,
     "metadata": {},
     "output_type": "execute_result"
    }
   ],
   "source": [
    "combined_branch_category_sales"
   ]
  },
  {
   "cell_type": "code",
   "execution_count": 11,
   "metadata": {
    "colab": {
     "base_uri": "https://localhost:8080/",
     "height": 406
    },
    "executionInfo": {
     "elapsed": 1015,
     "status": "ok",
     "timestamp": 1688901112172,
     "user": {
      "displayName": "DEVKAR ANITA",
      "userId": "01640953838805468642"
     },
     "user_tz": -330
    },
    "id": "yk7IqrqMBfvi",
    "outputId": "99659726-f309-45c8-8281-fab32eb9d67c"
   },
   "outputs": [
    {
     "data": {
      "image/png": "[encoded data removed]",
      "text/plain": [
       "<Figure size 640x480 with 1 Axes>"
      ]
     },
     "metadata": {},
     "output_type": "display_data"
    }
   ],
   "source": [
    "plt.pie(branch_sales[\"price\"], labels = branch_sales.index)\n",
    "plt.show()"
   ]
  },
  {
   "cell_type": "code",
   "execution_count": 12,
   "metadata": {
    "colab": {
     "base_uri": "https://localhost:8080/",
     "height": 406
    },
    "executionInfo": {
     "elapsed": 1103,
     "status": "ok",
     "timestamp": 1688901117655,
     "user": {
      "displayName": "DEVKAR ANITA",
      "userId": "01640953838805468642"
     },
     "user_tz": -330
    },
    "id": "Ww-6gBW4CiDf",
    "outputId": "c26e6d6f-615c-4fba-8bc1-a20053cd2216"
   },
   "outputs": [
    {
     "data": {
      "image/png": "[encoded data removed]",
      "text/plain": [
       "<Figure size 640x480 with 1 Axes>"
      ]
     },
     "metadata": {},
     "output_type": "display_data"
    }
   ],
   "source": [
    "plt.pie(category_sales[\"price\"], labels = category_sales.index)\n",
    "plt.show()"
   ]
  },
  {
   "cell_type": "code",
   "execution_count": 13,
   "metadata": {
    "id": "42w6ZCMfHp3q"
   },
   "outputs": [],
   "source": [
    "combined_pivot = df.pivot_table(index=\"shopping_mall\", columns=\"category\", values=\"price\", aggfunc=\"sum\")"
   ]
  },
  {
   "cell_type": "code",
   "execution_count": 14,
   "metadata": {
    "colab": {
     "base_uri": "https://localhost:8080/",
     "height": 674
    },
    "executionInfo": {
     "elapsed": 1311,
     "status": "ok",
     "timestamp": 1688901126709,
     "user": {
      "displayName": "DEVKAR ANITA",
      "userId": "01640953838805468642"
     },
     "user_tz": -330
    },
    "id": "0y1GdW8LHxVR",
    "outputId": "dda9e333-ab15-4f04-a301-717ab50e1911"
   },
   "outputs": [
    {
     "data": {
      "image/png": "[encoded data removed]",
      "text/plain": [
       "<Figure size 1000x600 with 1 Axes>"
      ]
     },
     "metadata": {},
     "output_type": "display_data"
    }
   ],
   "source": [
    "combined_pivot.plot(kind=\"bar\", figsize=(10, 6))\n",
    "plt.show()"
   ]
  },
  {
   "cell_type": "code",
   "execution_count": null,
   "metadata": {},
   "outputs": [],
   "source": []
  }
 ],
 "metadata": {
  "colab": {
   "provenance": []
  },
  "kernelspec": {
   "display_name": "Python 3 (ipykernel)",
   "language": "python",
   "name": "python3"
  },
  "language_info": {
   "codemirror_mode": {
    "name": "ipython",
    "version": 3
   },
   "file_extension": ".py",
   "mimetype": "text/x-python",
   "name": "python",
   "nbconvert_exporter": "python",
   "pygments_lexer": "ipython3",
   "version": "3.11.5"
  }
 },
 "nbformat": 4,
 "nbformat_minor": 1
}
